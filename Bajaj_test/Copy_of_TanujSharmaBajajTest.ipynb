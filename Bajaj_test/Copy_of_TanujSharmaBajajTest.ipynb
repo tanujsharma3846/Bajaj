{
 "cells": [
  {
   "cell_type": "code",
   "execution_count": 1,
   "metadata": {
    "colab": {
     "base_uri": "https://localhost:8080/",
     "height": 1000
    },
    "id": "aTmd5cAmr1KY",
    "outputId": "302edc64-5fd2-4b91-8189-cd70b6e3ad2d"
   },
   "outputs": [
    {
     "data": {
      "text/html": [
       "<div>\n",
       "<style scoped>\n",
       "    .dataframe tbody tr th:only-of-type {\n",
       "        vertical-align: middle;\n",
       "    }\n",
       "\n",
       "    .dataframe tbody tr th {\n",
       "        vertical-align: top;\n",
       "    }\n",
       "\n",
       "    .dataframe thead th {\n",
       "        text-align: right;\n",
       "    }\n",
       "</style>\n",
       "<table border=\"1\" class=\"dataframe\">\n",
       "  <thead>\n",
       "    <tr style=\"text-align: right;\">\n",
       "      <th></th>\n",
       "      <th>appointmentId</th>\n",
       "      <th>phoneNumber</th>\n",
       "      <th>patientDetails</th>\n",
       "      <th>consultationData</th>\n",
       "    </tr>\n",
       "  </thead>\n",
       "  <tbody>\n",
       "    <tr>\n",
       "      <th>0</th>\n",
       "      <td>40d2-9c9f</td>\n",
       "      <td>96686896670</td>\n",
       "      <td>{'_id': 'T6hb630b3', 'firstName': 'Css', 'last...</td>\n",
       "      <td>{'adviceTemplates': [], 'advices': [], 'attach...</td>\n",
       "    </tr>\n",
       "    <tr>\n",
       "      <th>1</th>\n",
       "      <td>40dbtc9f</td>\n",
       "      <td>9496368916</td>\n",
       "      <td>{'_id': 'T6h33b300', 'firstName': 'Lokesh', 'l...</td>\n",
       "      <td>{'adviceTemplates': [], 'advices': [], 'attach...</td>\n",
       "    </tr>\n",
       "    <tr>\n",
       "      <th>2</th>\n",
       "      <td>g3Wt5c9f</td>\n",
       "      <td>7787204833</td>\n",
       "      <td>{'_id': 'TjhB4373', 'phrId': '63b5hvy614d5', '...</td>\n",
       "      <td>{'adviceTemplates': [], 'advices': [], 'attach...</td>\n",
       "    </tr>\n",
       "    <tr>\n",
       "      <th>3</th>\n",
       "      <td>fb6-a535</td>\n",
       "      <td>9376756879</td>\n",
       "      <td>{'_id': '6df4R5b', 'phrId': '644nig7y', 'first...</td>\n",
       "      <td>{'adviceTemplates': [], 'advices': [], 'attach...</td>\n",
       "    </tr>\n",
       "    <tr>\n",
       "      <th>4</th>\n",
       "      <td>67h7KL9</td>\n",
       "      <td>5267384241</td>\n",
       "      <td>{'_id': 'lK9hy06a', 'firstName': 'Raghu Viju',...</td>\n",
       "      <td>{'adviceTemplates': [], 'advices': [], 'attach...</td>\n",
       "    </tr>\n",
       "    <tr>\n",
       "      <th>5</th>\n",
       "      <td>Hy7Y91</td>\n",
       "      <td>+919826374025</td>\n",
       "      <td>{'_id': 'kI9d5c6', 'firstName': 'Dinesh Kumar'...</td>\n",
       "      <td>{'adviceTemplates': [], 'advices': [], 'attach...</td>\n",
       "    </tr>\n",
       "    <tr>\n",
       "      <th>6</th>\n",
       "      <td>10dY8a-4a</td>\n",
       "      <td>7587265252</td>\n",
       "      <td>{'_id': 'i9R324b7', 'phrId': '67Yt2b97', 'firs...</td>\n",
       "      <td>{'adviceTemplates': [], 'advices': [], 'attach...</td>\n",
       "    </tr>\n",
       "    <tr>\n",
       "      <th>7</th>\n",
       "      <td>e8056Ye8</td>\n",
       "      <td>5586958767</td>\n",
       "      <td>{'_id': 'T6h41b5ad3d8002ad9c3c4', 'firstName':...</td>\n",
       "      <td>{'adviceTemplates': [], 'advices': [], 'attach...</td>\n",
       "    </tr>\n",
       "    <tr>\n",
       "      <th>8</th>\n",
       "      <td>dbc0-c66b</td>\n",
       "      <td>9987602525</td>\n",
       "      <td>{'_id': 'T9Iy347e', 'firstName': 'Dinesh', 'la...</td>\n",
       "      <td>{'adviceTemplates': [], 'advices': [], 'attach...</td>\n",
       "    </tr>\n",
       "    <tr>\n",
       "      <th>9</th>\n",
       "      <td>1576a7</td>\n",
       "      <td>9234354366</td>\n",
       "      <td>{'_id': 'T4Rb1a2', 'firstName': 'Sanjay', 'las...</td>\n",
       "      <td>{'adviceTemplates': [], 'advices': [], 'attach...</td>\n",
       "    </tr>\n",
       "    <tr>\n",
       "      <th>10</th>\n",
       "      <td>b6Te4ac</td>\n",
       "      <td>4863281056</td>\n",
       "      <td>{'_id': 'Tr4T2173', 'phrId': '6E48U79', 'first...</td>\n",
       "      <td>{'adviceTemplates': [], 'advices': [], 'attach...</td>\n",
       "    </tr>\n",
       "    <tr>\n",
       "      <th>11</th>\n",
       "      <td>bu5Qfb</td>\n",
       "      <td>8687986800</td>\n",
       "      <td>{'_id': 'T6Wa50', 'firstName': 'Nirmala', 'las...</td>\n",
       "      <td>{'adviceTemplates': [], 'advices': [], 'attach...</td>\n",
       "    </tr>\n",
       "    <tr>\n",
       "      <th>12</th>\n",
       "      <td>86U8Y45</td>\n",
       "      <td></td>\n",
       "      <td>{'_id': '65sRa36', 'firstName': 'Satish', 'las...</td>\n",
       "      <td>{'adviceTemplates': [], 'advices': [], 'attach...</td>\n",
       "    </tr>\n",
       "    <tr>\n",
       "      <th>13</th>\n",
       "      <td>Ufd7231</td>\n",
       "      <td>7152684236</td>\n",
       "      <td>{'_id': 'UG67231', 'phrId': 'T6a7231', 'firstN...</td>\n",
       "      <td>{'labTest': [], 'emrTemplates': [], 'doctorNot...</td>\n",
       "    </tr>\n",
       "    <tr>\n",
       "      <th>14</th>\n",
       "      <td>E4u5Ea2</td>\n",
       "      <td></td>\n",
       "      <td>{'_id': 'E4u5Ea2', 'firstName': 'Satyanaaryan'...</td>\n",
       "      <td>{'adviceTemplates': [], 'advices': [], 'attach...</td>\n",
       "    </tr>\n",
       "    <tr>\n",
       "      <th>15</th>\n",
       "      <td>T4E3e410</td>\n",
       "      <td>9184723620</td>\n",
       "      <td>{'_id': 'T4E7Ge6', 'firstName': 'Nivitha', 'la...</td>\n",
       "      <td>{'adviceTemplates': [], 'advices': [], 'attach...</td>\n",
       "    </tr>\n",
       "    <tr>\n",
       "      <th>16</th>\n",
       "      <td>04Re22d</td>\n",
       "      <td></td>\n",
       "      <td>{'_id': '04Re22d', 'firstName': 'Tejpal', 'las...</td>\n",
       "      <td>{'adviceTemplates': [], 'advices': [], 'attach...</td>\n",
       "    </tr>\n",
       "    <tr>\n",
       "      <th>17</th>\n",
       "      <td>af9784hf</td>\n",
       "      <td>5847346075</td>\n",
       "      <td>{'_id': 'u7dWa589', 'firstName': 'Nandhini', '...</td>\n",
       "      <td>{'adviceTemplates': [], 'advices': [], 'attach...</td>\n",
       "    </tr>\n",
       "    <tr>\n",
       "      <th>18</th>\n",
       "      <td>I8eW201</td>\n",
       "      <td>9064537237</td>\n",
       "      <td>{'_id': 'TU7e913', 'firstName': 'Dhanamma', 'l...</td>\n",
       "      <td>{'adviceTemplates': [], 'advices': [], 'attach...</td>\n",
       "    </tr>\n",
       "    <tr>\n",
       "      <th>19</th>\n",
       "      <td>f7r501cb1</td>\n",
       "      <td></td>\n",
       "      <td>{'_id': 'H8s2d40', 'firstName': 'Kushal', 'las...</td>\n",
       "      <td>{'adviceTemplates': [], 'advices': [], 'attach...</td>\n",
       "    </tr>\n",
       "    <tr>\n",
       "      <th>20</th>\n",
       "      <td>cf092c8t6c</td>\n",
       "      <td>992727892</td>\n",
       "      <td>{'_id': 'u9cd6', 'phrId': '6463U8s231', 'first...</td>\n",
       "      <td>{'adviceTemplates': [], 'advices': [], 'attach...</td>\n",
       "    </tr>\n",
       "    <tr>\n",
       "      <th>21</th>\n",
       "      <td>O02n262e</td>\n",
       "      <td>6888324121</td>\n",
       "      <td>{'_id': 'Pdh97S6', 'phrId': 'Jus0480', 'firstN...</td>\n",
       "      <td>{'adviceTemplates': [], 'advices': [], 'attach...</td>\n",
       "    </tr>\n",
       "    <tr>\n",
       "      <th>22</th>\n",
       "      <td>5dfN9s41</td>\n",
       "      <td>8248594521</td>\n",
       "      <td>{'_id': 'h02U8a781', 'firstName': 'Preethi', '...</td>\n",
       "      <td>{'adviceTemplates': [], 'advices': [], 'attach...</td>\n",
       "    </tr>\n",
       "    <tr>\n",
       "      <th>23</th>\n",
       "      <td>cc86re0f</td>\n",
       "      <td>+917938475936</td>\n",
       "      <td>{'_id': 'T6h40a5ad3d8002ad9c06a', 'firstName':...</td>\n",
       "      <td>{'adviceTemplates': [], 'advices': [], 'attach...</td>\n",
       "    </tr>\n",
       "    <tr>\n",
       "      <th>24</th>\n",
       "      <td>bd99dU7</td>\n",
       "      <td>+9124648979746</td>\n",
       "      <td>{'_id': 'Y7sHec', 'firstName': 'Naresh', 'last...</td>\n",
       "      <td>{'adviceTemplates': [], 'advices': [], 'attach...</td>\n",
       "    </tr>\n",
       "    <tr>\n",
       "      <th>25</th>\n",
       "      <td>bcWe50</td>\n",
       "      <td>+916883788633</td>\n",
       "      <td>{'_id': 'T6h408981ayf32b63bcfa', 'firstName': ...</td>\n",
       "      <td>{'adviceTemplates': [], 'advices': [], 'attach...</td>\n",
       "    </tr>\n",
       "    <tr>\n",
       "      <th>26</th>\n",
       "      <td>7au8se3</td>\n",
       "      <td>+916636278363</td>\n",
       "      <td>{'_id': 'T6U67af9', 'firstName': 'Govardhan', ...</td>\n",
       "      <td>{'adviceTemplates': [], 'advices': [], 'attach...</td>\n",
       "    </tr>\n",
       "    <tr>\n",
       "      <th>27</th>\n",
       "      <td>432cT213</td>\n",
       "      <td>6525356535</td>\n",
       "      <td>{'_id': 'R53Et5W', 'firstName': 'Rajeshwari', ...</td>\n",
       "      <td>{'adviceTemplates': [], 'advices': [], 'attach...</td>\n",
       "    </tr>\n",
       "    <tr>\n",
       "      <th>28</th>\n",
       "      <td>D3fFr42c</td>\n",
       "      <td></td>\n",
       "      <td>{'_id': 'dE3r$2b5', 'firstName': 'Santosh', 'l...</td>\n",
       "      <td>{'adviceTemplates': [], 'advices': [], 'attach...</td>\n",
       "    </tr>\n",
       "    <tr>\n",
       "      <th>29</th>\n",
       "      <td>7uyT6Rs</td>\n",
       "      <td>+919093872282</td>\n",
       "      <td>{'_id': 'TI93Hd5', 'firstName': 'Tarachand', '...</td>\n",
       "      <td>{'adviceTemplates': [], 'advices': [], 'attach...</td>\n",
       "    </tr>\n",
       "    <tr>\n",
       "      <th>30</th>\n",
       "      <td>O02n2e</td>\n",
       "      <td>+916888324121</td>\n",
       "      <td>{'_id': 'Pdh97S6', 'phrId': 'Jus0480', 'firstN...</td>\n",
       "      <td>{'adviceTemplates': [], 'advices': [], 'attach...</td>\n",
       "    </tr>\n",
       "  </tbody>\n",
       "</table>\n",
       "</div>"
      ],
      "text/plain": [
       "   appointmentId     phoneNumber  \\\n",
       "0      40d2-9c9f     96686896670   \n",
       "1       40dbtc9f      9496368916   \n",
       "2       g3Wt5c9f      7787204833   \n",
       "3       fb6-a535      9376756879   \n",
       "4        67h7KL9      5267384241   \n",
       "5         Hy7Y91   +919826374025   \n",
       "6      10dY8a-4a      7587265252   \n",
       "7       e8056Ye8      5586958767   \n",
       "8      dbc0-c66b      9987602525   \n",
       "9         1576a7      9234354366   \n",
       "10       b6Te4ac      4863281056   \n",
       "11        bu5Qfb      8687986800   \n",
       "12       86U8Y45                   \n",
       "13       Ufd7231      7152684236   \n",
       "14       E4u5Ea2                   \n",
       "15      T4E3e410      9184723620   \n",
       "16       04Re22d                   \n",
       "17      af9784hf      5847346075   \n",
       "18       I8eW201      9064537237   \n",
       "19     f7r501cb1                   \n",
       "20    cf092c8t6c       992727892   \n",
       "21      O02n262e      6888324121   \n",
       "22      5dfN9s41      8248594521   \n",
       "23      cc86re0f   +917938475936   \n",
       "24       bd99dU7  +9124648979746   \n",
       "25        bcWe50   +916883788633   \n",
       "26       7au8se3   +916636278363   \n",
       "27      432cT213      6525356535   \n",
       "28      D3fFr42c                   \n",
       "29       7uyT6Rs   +919093872282   \n",
       "30        O02n2e   +916888324121   \n",
       "\n",
       "                                       patientDetails  \\\n",
       "0   {'_id': 'T6hb630b3', 'firstName': 'Css', 'last...   \n",
       "1   {'_id': 'T6h33b300', 'firstName': 'Lokesh', 'l...   \n",
       "2   {'_id': 'TjhB4373', 'phrId': '63b5hvy614d5', '...   \n",
       "3   {'_id': '6df4R5b', 'phrId': '644nig7y', 'first...   \n",
       "4   {'_id': 'lK9hy06a', 'firstName': 'Raghu Viju',...   \n",
       "5   {'_id': 'kI9d5c6', 'firstName': 'Dinesh Kumar'...   \n",
       "6   {'_id': 'i9R324b7', 'phrId': '67Yt2b97', 'firs...   \n",
       "7   {'_id': 'T6h41b5ad3d8002ad9c3c4', 'firstName':...   \n",
       "8   {'_id': 'T9Iy347e', 'firstName': 'Dinesh', 'la...   \n",
       "9   {'_id': 'T4Rb1a2', 'firstName': 'Sanjay', 'las...   \n",
       "10  {'_id': 'Tr4T2173', 'phrId': '6E48U79', 'first...   \n",
       "11  {'_id': 'T6Wa50', 'firstName': 'Nirmala', 'las...   \n",
       "12  {'_id': '65sRa36', 'firstName': 'Satish', 'las...   \n",
       "13  {'_id': 'UG67231', 'phrId': 'T6a7231', 'firstN...   \n",
       "14  {'_id': 'E4u5Ea2', 'firstName': 'Satyanaaryan'...   \n",
       "15  {'_id': 'T4E7Ge6', 'firstName': 'Nivitha', 'la...   \n",
       "16  {'_id': '04Re22d', 'firstName': 'Tejpal', 'las...   \n",
       "17  {'_id': 'u7dWa589', 'firstName': 'Nandhini', '...   \n",
       "18  {'_id': 'TU7e913', 'firstName': 'Dhanamma', 'l...   \n",
       "19  {'_id': 'H8s2d40', 'firstName': 'Kushal', 'las...   \n",
       "20  {'_id': 'u9cd6', 'phrId': '6463U8s231', 'first...   \n",
       "21  {'_id': 'Pdh97S6', 'phrId': 'Jus0480', 'firstN...   \n",
       "22  {'_id': 'h02U8a781', 'firstName': 'Preethi', '...   \n",
       "23  {'_id': 'T6h40a5ad3d8002ad9c06a', 'firstName':...   \n",
       "24  {'_id': 'Y7sHec', 'firstName': 'Naresh', 'last...   \n",
       "25  {'_id': 'T6h408981ayf32b63bcfa', 'firstName': ...   \n",
       "26  {'_id': 'T6U67af9', 'firstName': 'Govardhan', ...   \n",
       "27  {'_id': 'R53Et5W', 'firstName': 'Rajeshwari', ...   \n",
       "28  {'_id': 'dE3r$2b5', 'firstName': 'Santosh', 'l...   \n",
       "29  {'_id': 'TI93Hd5', 'firstName': 'Tarachand', '...   \n",
       "30  {'_id': 'Pdh97S6', 'phrId': 'Jus0480', 'firstN...   \n",
       "\n",
       "                                     consultationData  \n",
       "0   {'adviceTemplates': [], 'advices': [], 'attach...  \n",
       "1   {'adviceTemplates': [], 'advices': [], 'attach...  \n",
       "2   {'adviceTemplates': [], 'advices': [], 'attach...  \n",
       "3   {'adviceTemplates': [], 'advices': [], 'attach...  \n",
       "4   {'adviceTemplates': [], 'advices': [], 'attach...  \n",
       "5   {'adviceTemplates': [], 'advices': [], 'attach...  \n",
       "6   {'adviceTemplates': [], 'advices': [], 'attach...  \n",
       "7   {'adviceTemplates': [], 'advices': [], 'attach...  \n",
       "8   {'adviceTemplates': [], 'advices': [], 'attach...  \n",
       "9   {'adviceTemplates': [], 'advices': [], 'attach...  \n",
       "10  {'adviceTemplates': [], 'advices': [], 'attach...  \n",
       "11  {'adviceTemplates': [], 'advices': [], 'attach...  \n",
       "12  {'adviceTemplates': [], 'advices': [], 'attach...  \n",
       "13  {'labTest': [], 'emrTemplates': [], 'doctorNot...  \n",
       "14  {'adviceTemplates': [], 'advices': [], 'attach...  \n",
       "15  {'adviceTemplates': [], 'advices': [], 'attach...  \n",
       "16  {'adviceTemplates': [], 'advices': [], 'attach...  \n",
       "17  {'adviceTemplates': [], 'advices': [], 'attach...  \n",
       "18  {'adviceTemplates': [], 'advices': [], 'attach...  \n",
       "19  {'adviceTemplates': [], 'advices': [], 'attach...  \n",
       "20  {'adviceTemplates': [], 'advices': [], 'attach...  \n",
       "21  {'adviceTemplates': [], 'advices': [], 'attach...  \n",
       "22  {'adviceTemplates': [], 'advices': [], 'attach...  \n",
       "23  {'adviceTemplates': [], 'advices': [], 'attach...  \n",
       "24  {'adviceTemplates': [], 'advices': [], 'attach...  \n",
       "25  {'adviceTemplates': [], 'advices': [], 'attach...  \n",
       "26  {'adviceTemplates': [], 'advices': [], 'attach...  \n",
       "27  {'adviceTemplates': [], 'advices': [], 'attach...  \n",
       "28  {'adviceTemplates': [], 'advices': [], 'attach...  \n",
       "29  {'adviceTemplates': [], 'advices': [], 'attach...  \n",
       "30  {'adviceTemplates': [], 'advices': [], 'attach...  "
      ]
     },
     "execution_count": 1,
     "metadata": {},
     "output_type": "execute_result"
    }
   ],
   "source": [
    "import pandas as pd\n",
    "\n",
    "df = pd.read_json('DataEngineeringQ2.json')\n",
    "df = df[['appointmentId', 'phoneNumber', 'patientDetails', 'consultationData']]\n",
    "df"
   ]
  },
  {
   "cell_type": "code",
   "execution_count": null,
   "metadata": {
    "id": "hHGqiGw9Cwk8"
   },
   "outputs": [],
   "source": []
  },
  {
   "cell_type": "code",
   "execution_count": 2,
   "metadata": {
    "id": "c1Iq3UHXuyXD"
   },
   "outputs": [],
   "source": [
    "df['medicines'] = df['consultationData'].apply(lambda x: x['medicines'])"
   ]
  },
  {
   "cell_type": "code",
   "execution_count": 3,
   "metadata": {
    "colab": {
     "base_uri": "https://localhost:8080/"
    },
    "id": "s7PvBp0i91f3",
    "outputId": "4af9c473-35a1-47a3-b42a-4677bc7e1ea8"
   },
   "outputs": [
    {
     "data": {
      "text/plain": [
       "0     [{'medicineId': '619404', 'medicineName': 'A',...\n",
       "1     [{'medicineId': '619404', 'medicineName': 'A',...\n",
       "2     [{'medicineId': '619404', 'medicineName': 'B',...\n",
       "3     [{'medicineId': '619704', 'medicineName': 'B',...\n",
       "4     [{'medicineId': '619384', 'medicineName': 'D',...\n",
       "5     [{'medicineId': '643404', 'medicineName': 'A',...\n",
       "6     [{'medicineId': '632304', 'medicineName': 'D',...\n",
       "7     [{'medicineId': '619404', 'medicineName': 'A',...\n",
       "8     [{'medicineId': '619504', 'medicineName': 'E',...\n",
       "9                                                    []\n",
       "10    [{'medicineId': '619504', 'medicineName': 'E',...\n",
       "11    [{'medicineId': '619504', 'medicineName': 'E',...\n",
       "12                                                   []\n",
       "13    [{'medicineId': '619504', 'medicineName': 'A',...\n",
       "14                                                   []\n",
       "15    [{'medicineId': '619504', 'medicineName': 'B',...\n",
       "16    [{'medicineId': '619504', 'medicineName': 'C',...\n",
       "17    [{'medicineId': '619504', 'medicineName': 'A',...\n",
       "18    [{'medicineId': '619504', 'medicineName': 'A',...\n",
       "19                                                   []\n",
       "20    [{'medicineId': '619504', 'medicineName': 'D',...\n",
       "21    [{'medicineId': '612504', 'medicineName': 'D',...\n",
       "22    [{'medicineId': '611504', 'medicineName': 'A',...\n",
       "23    [{'medicineId': '612504', 'medicineName': 'A',...\n",
       "24                                                   []\n",
       "25    [{'medicineId': '612504', 'medicineName': 'D',...\n",
       "26    [{'medicineId': '612504', 'medicineName': 'C',...\n",
       "27    [{'medicineId': '612504', 'medicineName': 'A',...\n",
       "28                                                   []\n",
       "29    [{'medicineId': '612504', 'medicineName': 'A',...\n",
       "30    [{'medicineId': '612504', 'medicineName': 'A',...\n",
       "Name: medicines, dtype: object"
      ]
     },
     "execution_count": 3,
     "metadata": {},
     "output_type": "execute_result"
    }
   ],
   "source": [
    "df['medicines']"
   ]
  },
  {
   "cell_type": "code",
   "execution_count": 4,
   "metadata": {
    "id": "hxlHXKsIus1c"
   },
   "outputs": [],
   "source": [
    "df['firstName'] = df['patientDetails'].apply(lambda x: x['firstName'])\n",
    "df['lastName'] = df['patientDetails'].apply(lambda x: x['lastName'])\n",
    "df['gender'] = df['patientDetails'].apply(lambda x: x.get('gender', ''))\n",
    "df['birthDate'] = df['patientDetails'].apply(lambda x: x.get('birthDate', None))"
   ]
  },
  {
   "cell_type": "code",
   "execution_count": 5,
   "metadata": {
    "colab": {
     "base_uri": "https://localhost:8080/"
    },
    "id": "13fFTYML-Gbm",
    "outputId": "b801ad1b-1e00-4fbe-e29c-bc922ec0f859"
   },
   "outputs": [
    {
     "data": {
      "text/plain": [
       "0                          Css\n",
       "1                       Lokesh\n",
       "2                        Shila\n",
       "3                      Bhavika\n",
       "4                   Raghu Viju\n",
       "5                 Dinesh Kumar\n",
       "6                        Lalit\n",
       "7                         Ravi\n",
       "8                       Dinesh\n",
       "9                       Sanjay\n",
       "10                      Akshay\n",
       "11                     Nirmala\n",
       "12                      Satish\n",
       "13                  Kalaiarasi\n",
       "14                Satyanaaryan\n",
       "15                     Nivitha\n",
       "16                      Tejpal\n",
       "17                    Nandhini\n",
       "18                    Dhanamma\n",
       "19                      Kushal\n",
       "20                      Daniya\n",
       "21                         Jay\n",
       "22                     Preethi\n",
       "23    VITTHAL SHANKARRAO GHATE\n",
       "24                      Naresh\n",
       "25                      Suresh\n",
       "26                   Govardhan\n",
       "27                  Rajeshwari\n",
       "28                     Santosh\n",
       "29                   Tarachand\n",
       "30                         Jay\n",
       "Name: firstName, dtype: object"
      ]
     },
     "execution_count": 5,
     "metadata": {},
     "output_type": "execute_result"
    }
   ],
   "source": [
    "df['firstName']"
   ]
  },
  {
   "cell_type": "code",
   "execution_count": 6,
   "metadata": {
    "colab": {
     "base_uri": "https://localhost:8080/"
    },
    "id": "WZdfLt-4-Llu",
    "outputId": "9f8410f6-a357-4620-f8b6-92f0a52b78cd"
   },
   "outputs": [
    {
     "data": {
      "text/plain": [
       "0                \n",
       "1                \n",
       "2             Das\n",
       "3     Ben Panchal\n",
       "4                \n",
       "5                \n",
       "6        Sankhwal\n",
       "7                \n",
       "8                \n",
       "9                \n",
       "10         Akshay\n",
       "11               \n",
       "12               \n",
       "13     Kalaiarasi\n",
       "14               \n",
       "15               \n",
       "16               \n",
       "17               \n",
       "18               \n",
       "19               \n",
       "20          Zehra\n",
       "21         Sharma\n",
       "22               \n",
       "23               \n",
       "24               \n",
       "25        Gaikwad\n",
       "26               \n",
       "27               \n",
       "28               \n",
       "29               \n",
       "30         Sharma\n",
       "Name: lastName, dtype: object"
      ]
     },
     "execution_count": 6,
     "metadata": {},
     "output_type": "execute_result"
    }
   ],
   "source": [
    "df['lastName']"
   ]
  },
  {
   "cell_type": "code",
   "execution_count": 7,
   "metadata": {
    "colab": {
     "base_uri": "https://localhost:8080/"
    },
    "id": "SG_Rg0I3-L9u",
    "outputId": "86c11f0a-2bf5-4454-8c4e-1b3c5c0aecf3"
   },
   "outputs": [
    {
     "data": {
      "text/plain": [
       "0      \n",
       "1     M\n",
       "2      \n",
       "3     F\n",
       "4      \n",
       "5     M\n",
       "6     M\n",
       "7      \n",
       "8     M\n",
       "9     M\n",
       "10    M\n",
       "11    F\n",
       "12     \n",
       "13    F\n",
       "14     \n",
       "15    F\n",
       "16    M\n",
       "17    F\n",
       "18    F\n",
       "19     \n",
       "20    F\n",
       "21    M\n",
       "22    F\n",
       "23     \n",
       "24    M\n",
       "25     \n",
       "26     \n",
       "27    F\n",
       "28    F\n",
       "29    M\n",
       "30    M\n",
       "Name: gender, dtype: object"
      ]
     },
     "execution_count": 7,
     "metadata": {},
     "output_type": "execute_result"
    }
   ],
   "source": [
    "df['gender']"
   ]
  },
  {
   "cell_type": "code",
   "execution_count": 8,
   "metadata": {
    "id": "gW6UpgjWvP5z"
   },
   "outputs": [],
   "source": [
    "df['gender'] = df['gender'].map({'M': 'male', 'F': 'female'}).fillna('others')"
   ]
  },
  {
   "cell_type": "code",
   "execution_count": 9,
   "metadata": {
    "id": "iC6A1de1vSx9"
   },
   "outputs": [],
   "source": [
    "df = df.rename(columns={'birthDate': 'DOB'})"
   ]
  },
  {
   "cell_type": "code",
   "execution_count": 10,
   "metadata": {
    "id": "v1KD6umGvSwD"
   },
   "outputs": [],
   "source": [
    "df['fullName'] = df['firstName'] + ' ' + df['lastName']"
   ]
  },
  {
   "cell_type": "code",
   "execution_count": 11,
   "metadata": {
    "id": "J180KCOcvStb"
   },
   "outputs": [],
   "source": [
    "def is_valid_mobile(phone_number):\n",
    "    phone_number = str(phone_number)\n",
    "    if phone_number.isdigit() and len(phone_number) == 10:\n",
    "        return True\n",
    "    return False"
   ]
  },
  {
   "cell_type": "code",
   "execution_count": 12,
   "metadata": {
    "id": "e0kh6XMmvSrD"
   },
   "outputs": [],
   "source": [
    "df['isValidMobile'] = df['phoneNumber'].apply(is_valid_mobile)"
   ]
  },
  {
   "cell_type": "code",
   "execution_count": 13,
   "metadata": {
    "id": "ydRjxJczvSo1"
   },
   "outputs": [],
   "source": [
    "def hash_phone_number(phone_number):\n",
    "    if is_valid_mobile(phone_number):\n",
    "        return hashlib.sha256(phone_number.encode()).hexdigest()\n",
    "    else:\n",
    "        return None"
   ]
  },
  {
   "cell_type": "code",
   "execution_count": 14,
   "metadata": {
    "id": "Vq_7p0Fzvswq"
   },
   "outputs": [],
   "source": [
    "import pandas as pd\n",
    "import hashlib"
   ]
  },
  {
   "cell_type": "code",
   "execution_count": 15,
   "metadata": {
    "id": "QAEQleo1vShb"
   },
   "outputs": [],
   "source": [
    "df['phoneNumberHash'] = df['phoneNumber'].apply(hash_phone_number)"
   ]
  },
  {
   "cell_type": "code",
   "execution_count": 16,
   "metadata": {
    "id": "4J-ndjFgvcz7"
   },
   "outputs": [],
   "source": [
    "def calculate_age(birth_date):\n",
    "    if pd.notnull(birth_date):\n",
    "        birth_date = pd.to_datetime(birth_date).tz_localize(None)  # Convert to timezone-naive format\n",
    "        age = (pd.to_datetime('today') - birth_date).days // 365\n",
    "        return age\n",
    "    else:\n",
    "        return None\n",
    "\n",
    "df['Age'] = df['DOB'].apply(calculate_age)"
   ]
  },
  {
   "cell_type": "code",
   "execution_count": 17,
   "metadata": {
    "id": "a4gSfbEHvemz"
   },
   "outputs": [],
   "source": [
    "df['noOfMedicines'] = df['medicines'].apply(len)\n",
    "df['noOfActiveMedicines'] = df['medicines'].apply(lambda x: sum(medicine['isActive'] for medicine in x))\n",
    "df['noOfInActiveMedicines'] = df['medicines'].apply(lambda x: sum(not medicine['isActive'] for medicine in x))\n",
    "df['medicineNames'] = df['medicines'].apply(lambda x: ', '.join(medicine['medicineName'] for medicine in x if medicine['isActive']))"
   ]
  },
  {
   "cell_type": "code",
   "execution_count": 18,
   "metadata": {
    "id": "M-oVRLY5vekk"
   },
   "outputs": [],
   "source": [
    "selected_columns = ['appointmentId', 'fullName', 'phoneNumber', 'isValidMobile', 'gender', 'DOB', 'Age', 'noOfMedicines', 'noOfActiveMedicines', 'noOfInActiveMedicines', 'medicineNames']\n",
    "df_final = df[selected_columns]"
   ]
  },
  {
   "cell_type": "code",
   "execution_count": 19,
   "metadata": {
    "id": "WFieCgalxXMC"
   },
   "outputs": [],
   "source": [
    "df_final.to_csv('output_file.csv', sep='~', index=False)"
   ]
  },
  {
   "cell_type": "code",
   "execution_count": 20,
   "metadata": {
    "id": "-NydgGWQveiV"
   },
   "outputs": [],
   "source": [
    "aggregated_data = {\n",
    "    'Age': df['Age'].mean(),\n",
    "    'gender': df['gender'].value_counts().to_dict(),\n",
    "    'validPhoneNumbers': df['isValidMobile'].sum(),\n",
    "    'appointments': len(df),\n",
    "    'medicines': df['noOfMedicines'].sum(),\n",
    "    'activeMedicines': df['noOfActiveMedicines'].sum()\n",
    "}"
   ]
  },
  {
   "cell_type": "code",
   "execution_count": 21,
   "metadata": {
    "colab": {
     "base_uri": "https://localhost:8080/",
     "height": 521
    },
    "id": "VXnplePlwb3D",
    "outputId": "f1a3654b-87d5-44f8-f2b3-8d51ae91d754"
   },
   "outputs": [
    {
     "data": {
      "image/png": "[encoded data removed]",
      "text/plain": [
       "<Figure size 432x432 with 1 Axes>"
      ]
     },
     "metadata": {},
     "output_type": "display_data"
    }
   ],
   "source": [
    "import matplotlib.pyplot as plt\n",
    "gender_counts = df['gender'].value_counts()\n",
    "plt.figure(figsize=(6, 6))\n",
    "plt.pie(gender_counts, labels=gender_counts.index, autopct='%1.1f%%')\n",
    "plt.title('Number of Appointments by Gender')\n",
    "plt.savefig('pie_chart.png')\n",
    "plt.show()"
   ]
  },
  {
   "cell_type": "code",
   "execution_count": null,
   "metadata": {
    "id": "bOkHa6jvx7WW"
   },
   "outputs": [],
   "source": []
  }
 ],
 "metadata": {
  "colab": {
   "provenance": []
  },
  "kernelspec": {
   "display_name": "Python 3 (ipykernel)",
   "language": "python",
   "name": "python3"
  },
  "language_info": {
   "codemirror_mode": {
    "name": "ipython",
    "version": 3
   },
   "file_extension": ".py",
   "mimetype": "text/x-python",
   "name": "python",
   "nbconvert_exporter": "python",
   "pygments_lexer": "ipython3",
   "version": "3.9.12"
  }
 },
 "nbformat": 4,
 "nbformat_minor": 1
}
